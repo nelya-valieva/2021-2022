{
 "cells": [
  {
   "cell_type": "code",
   "execution_count": 2,
   "id": "960c7384",
   "metadata": {},
   "outputs": [],
   "source": [
    "import numpy as np"
   ]
  },
  {
   "cell_type": "code",
   "execution_count": 3,
   "id": "91c586b1",
   "metadata": {},
   "outputs": [],
   "source": [
    "def encryption(text):\n",
    "    print(\"Open text\", text)\n",
    "    \n",
    "    text_array = []\n",
    "    for i in text:\n",
    "        text_array.append(i.encode(\"cp1251\").hex())\n",
    "    print(\"\\nOpen text of 16th format\", *text_array)\n",
    "    \n",
    "    \n",
    "    key_dec = np.random.randint(0, 255, len(text))\n",
    "    key_hex = [hex(i)[2:] for i in key_dec]\n",
    "    print(\"\\nKey of 16th format\", *key_hex)\n",
    "    \n",
    "    crypt_text = []\n",
    "    for i in range(len(text_array)):\n",
    "        crypt_text.append(\"{:2x}\".format(int(text_array[i], 16) ^ int(key_hex[i], 16)))\n",
    "    print(\"\\nEncrypted text of 16th format\", *crypt_text)\n",
    "    \n",
    "    final_text = bytearray.fromhex(\"\".join(crypt_text)).decode(\"cp1251\")\n",
    "    print(\"\\nEncrypted text\", final_text)\n",
    "    return key_hex, final_text"
   ]
  },
  {
   "cell_type": "code",
   "execution_count": 4,
   "id": "3fd5f1de",
   "metadata": {},
   "outputs": [],
   "source": [
    "def decryption(text, final_text):\n",
    "    print(\"Open text\", text)\n",
    "    print(\"\\nEncrypted text\", final_text)\n",
    "    \n",
    "    text_hex = []\n",
    "    for i in text:\n",
    "        text_hex.append(i.encode(\"cp1251\").hex())\n",
    "    print(\"\\nOpen text of 16th format\", *text_hex)\n",
    "    \n",
    "    final_text_hex = []\n",
    "    for i in final_text:\n",
    "        final_text_hex.append(i.encode(\"cp1251\").hex())\n",
    "    print(\"\\nEncrypted text of 16th format\", *final_text_hex)\n",
    "    \n",
    "    key = [hex(int(i, 16) ^ int(j, 16))[2:] for (i,j) in zip(text_hex, final_text_hex)]\n",
    "    print(\"\\nKey we needed with 16th format\", *key)\n",
    "    return key"
   ]
  },
  {
   "cell_type": "code",
   "execution_count": 5,
   "id": "18b8411f",
   "metadata": {},
   "outputs": [
    {
     "name": "stdout",
     "output_type": "stream",
     "text": [
      "Open text С Новым годом, друзья!\n",
      "\n",
      "Open text of 16th format d1 20 cd ee e2 fb ec 20 e3 ee e4 ee ec 2c 20 e4 f0 f3 e7 fc ff 21\n",
      "\n",
      "Key of 16th format 65 61 f6 40 ca 4b 94 3 f6 3d 24 15 5d 3b 12 f9 6e b9 42 bf 7f fc\n",
      "\n",
      "Encrypted text of 16th format b4 41 3b ae 28 b0 78 23 15 d3 c0 fb b1 17 32 1d 9e 4a a5 43 80 dd\n",
      "\n",
      "Encrypted text ґA;®(°x#\u0015УАы±\u00172\u001d",
      "ћJҐCЂЭ\n"
     ]
    }
   ],
   "source": [
    "a = \"С Новым годом, друзья!\"\n",
    "\n",
    "crypt_key, crypt_text = encryption(a)"
   ]
  },
  {
   "cell_type": "code",
   "execution_count": 6,
   "id": "5430d2b9",
   "metadata": {},
   "outputs": [
    {
     "name": "stdout",
     "output_type": "stream",
     "text": [
      "Open text С Новым годом, друзья!\n",
      "\n",
      "Encrypted text ґA;®(°x#\u0015УАы±\u00172\u001d",
      "ћJҐCЂЭ\n",
      "\n",
      "Open text of 16th format d1 20 cd ee e2 fb ec 20 e3 ee e4 ee ec 2c 20 e4 f0 f3 e7 fc ff 21\n",
      "\n",
      "Encrypted text of 16th format b4 41 3b ae 28 b0 78 23 15 d3 c0 fb b1 17 32 1d 9e 4a a5 43 80 dd\n",
      "\n",
      "Key we needed with 16th format 65 61 f6 40 ca 4b 94 3 f6 3d 24 15 5d 3b 12 f9 6e b9 42 bf 7f fc\n"
     ]
    }
   ],
   "source": [
    "key = decryption(a, crypt_text)"
   ]
  },
  {
   "cell_type": "code",
   "execution_count": 7,
   "id": "817bdf76",
   "metadata": {},
   "outputs": [
    {
     "name": "stdout",
     "output_type": "stream",
     "text": [
      "Answer is right!\n"
     ]
    }
   ],
   "source": [
    "print(\"Answer is right!\") if crypt_key == key else print(\"Answer isnt right\")"
   ]
  },
  {
   "cell_type": "code",
   "execution_count": null,
   "id": "c5e9c21d",
   "metadata": {},
   "outputs": [],
   "source": []
  },
  {
   "cell_type": "code",
   "execution_count": null,
   "id": "3d2d6799",
   "metadata": {},
   "outputs": [],
   "source": []
  }
 ],
 "metadata": {
  "kernelspec": {
   "display_name": "Python 3",
   "language": "python",
   "name": "python3"
  },
  "language_info": {
   "codemirror_mode": {
    "name": "ipython",
    "version": 3
   },
   "file_extension": ".py",
   "mimetype": "text/x-python",
   "name": "python",
   "nbconvert_exporter": "python",
   "pygments_lexer": "ipython3",
   "version": "3.8.8"
  }
 },
 "nbformat": 4,
 "nbformat_minor": 5
}
