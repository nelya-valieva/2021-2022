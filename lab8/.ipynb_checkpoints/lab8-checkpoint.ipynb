{
 "cells": [
  {
   "cell_type": "code",
   "execution_count": 12,
   "id": "e43ffdce",
   "metadata": {},
   "outputs": [],
   "source": [
    "import numpy as np"
   ]
  },
  {
   "cell_type": "code",
   "execution_count": 17,
   "id": "e947d55b",
   "metadata": {},
   "outputs": [],
   "source": [
    "def encryption(text1, text2):\n",
    "    print(\"Open 1st text\", text1)\n",
    "    text_array1 = []\n",
    "    for i in text1:\n",
    "        text_array1.append(i.encode(\"cp1251\").hex())\n",
    "    print(\"\\nOpen 1st text of 16th format\", *text_array1)\n",
    "    \n",
    "    print(\"Open 2nd text\", text2)\n",
    "    text_array2 = []\n",
    "    for i in text2:\n",
    "        text_array2.append(i.encode(\"cp1251\").hex())\n",
    "    print(\"\\nOpen 2nd text of 16th format\", *text_array2)\n",
    "    \n",
    "    key_dec = np.random.randint(0, 255, len(text1))\n",
    "    key_hex = [hex(i)[2:] for i in key_dec]\n",
    "    print(\"\\nKey of 16th format\", *key_hex)\n",
    "    \n",
    "    crypt_text1 = []\n",
    "    for i in range(len(text_array1)):\n",
    "        crypt_text1.append(\"{:02x}\".format(int(text_array1[i], 16) ^ int(key_hex[i], 16)))\n",
    "    print(\"\\nEncrypted 1st text of 16th format\", *crypt_text1)\n",
    "    \n",
    "    crypt_text2 = []\n",
    "    for i in range(len(text_array1)):\n",
    "        crypt_text2.append(\"{:02x}\".format(int(text_array2[i], 16) ^ int(key_hex[i], 16)))\n",
    "    print(\"\\nEncrypted 2nd text of 16th format\", *crypt_text2)\n",
    "    \n",
    "    final_text1 = bytearray.fromhex(\"\".join(crypt_text1)).decode(\"cp1251\")\n",
    "    print(\"\\nEncrypted 1st text\", final_text1)\n",
    "    \n",
    "    final_text2 = bytearray.fromhex(\"\".join(crypt_text2)).decode(\"cp1251\")\n",
    "    print(\"\\nEncrypted 2nd text\", final_text2)\n",
    "    \n",
    "    return key_hex, final_text1, final_text2"
   ]
  },
  {
   "cell_type": "code",
   "execution_count": 21,
   "id": "a171bd2d",
   "metadata": {},
   "outputs": [],
   "source": [
    "def decryption(cr_text1, cr_text2, op_text1):\n",
    "    print(\"Open text\", op_text1)\n",
    "    print(\"\\nEncrypted 1st text\", cr_text1)\n",
    "    print(\"\\nEncrypted 2nd text\", cr_text2)\n",
    "    \n",
    "    cr_text_hex1 = []\n",
    "    for i in cr_text1:\n",
    "        cr_text_hex1.append(i.encode(\"cp1251\").hex())\n",
    "    print(\"\\nOpen text of 16th format\", *cr_text_hex1)\n",
    "    \n",
    "    cr_text_hex2 = []\n",
    "    for i in cr_text2:\n",
    "        cr_text_hex2.append(i.encode(\"cp1251\").hex())\n",
    "    print(\"\\nOpen text of 16th format\", *cr_text_hex2)\n",
    "    \n",
    "    \n",
    "    op_text_hex1 = []\n",
    "    for i in op_text1:\n",
    "        op_text_hex1.append(i.encode(\"cp1251\").hex())\n",
    "    print(\"\\nEncrypted text of 16th format\", *op_text_hex1)\n",
    "    \n",
    "    cr1_cr2 = []\n",
    "    op_text_hex2 = []\n",
    "    for i in range(len(op_text1)):\n",
    "        cr1_cr2.append(\"{:02x}\".format(int(cr_text_hex1[i], 16) ^ int(cr_text_hex2[i],16)))\n",
    "        op_text_hex2.append(\"{:02x}\".format(int(cr1_cr2[i], 16) ^ int(op_text_hex1[i],16)))\n",
    "    \n",
    "    print(\"\\nOpen 2nd text with 16th format\", *op_text_hex2)\n",
    "    op_text2 = bytearray.fromhex(\"\".join(op_text_hex2)).decode(\"cp1251\")\n",
    "    return op_text2"
   ]
  },
  {
   "cell_type": "code",
   "execution_count": 19,
   "id": "5859d60f",
   "metadata": {},
   "outputs": [
    {
     "name": "stdout",
     "output_type": "stream",
     "text": [
      "Open 1st text НаВашисходящийот1204\n",
      "\n",
      "Open 1st text of 16th format cd e0 c2 e0 f8 e8 f1 f5 ee e4 ff f9 e8 e9 ee f2 31 32 30 34\n",
      "Open 2nd text ВСеверныйфилиалБанка\n",
      "\n",
      "Open 2nd text of 16th format c2 d1 e5 e2 e5 f0 ed fb e9 f4 e8 eb e8 e0 eb c1 e0 ed ea e0\n",
      "\n",
      "Key of 16th format e8 e7 c3 e 7a b3 fa b4 d5 cd 97 c6 2c 22 fc 2c 61 6a 5 4d\n",
      "\n",
      "Encrypted 1st text of 16th format 25 07 01 ee 82 5b 0b 41 3b 29 68 3f c4 cb 12 de 50 58 35 79\n",
      "\n",
      "Encrypted 2nd text of 16th format 2a 36 26 ec 9f 43 17 4f 3c 39 7f 2d c4 c2 17 ed 81 87 ef ad\n",
      "\n",
      "Encrypted 1st text %\u0007\u0001о‚[\u000b",
      "A;)h?ДЛ\u0012ЮPX5y\n",
      "\n",
      "Encrypted 2nd text *6&мџC\u0017O<9-ДВ\u0017нЃ‡п­\n"
     ]
    }
   ],
   "source": [
    "p1 = \"НаВашисходящийот1204\"\n",
    "p2 = \"ВСеверныйфилиалБанка\"\n",
    "key, res1, res2 = encryption(p1, p2)"
   ]
  },
  {
   "cell_type": "code",
   "execution_count": 22,
   "id": "d32d255e",
   "metadata": {},
   "outputs": [
    {
     "name": "stdout",
     "output_type": "stream",
     "text": [
      "Open text НаВашисходящийот1204\n",
      "\n",
      "Encrypted 1st text %\u0007\u0001о‚[\u000b",
      "A;)h?ДЛ\u0012ЮPX5y\n",
      "\n",
      "Encrypted 2nd text *6&мџC\u0017O<9-ДВ\u0017нЃ‡п­\n",
      "\n",
      "Open text of 16th format 25 07 01 ee 82 5b 0b 41 3b 29 68 3f c4 cb 12 de 50 58 35 79\n",
      "\n",
      "Open text of 16th format 2a 36 26 ec 9f 43 17 4f 3c 39 7f 2d c4 c2 17 ed 81 87 ef ad\n",
      "\n",
      "Encrypted text of 16th format cd e0 c2 e0 f8 e8 f1 f5 ee e4 ff f9 e8 e9 ee f2 31 32 30 34\n",
      "\n",
      "Open 2nd text with 16th format c2 d1 e5 e2 e5 f0 ed fb e9 f4 e8 eb e8 e0 eb c1 e0 ed ea e0\n",
      "\n",
      "Open 2nd test ВСеверныйфилиалБанка\n"
     ]
    }
   ],
   "source": [
    "text2 = decryption(res1, res2, p1)\n",
    "print(\"\\nOpen 2nd test\", text2)"
   ]
  },
  {
   "cell_type": "code",
   "execution_count": 23,
   "id": "987b2294",
   "metadata": {},
   "outputs": [
    {
     "name": "stdout",
     "output_type": "stream",
     "text": [
      "Open text ВСеверныйфилиалБанка\n",
      "\n",
      "Encrypted 1st text %\u0007\u0001о‚[\u000b",
      "A;)h?ДЛ\u0012ЮPX5y\n",
      "\n",
      "Encrypted 2nd text *6&мџC\u0017O<9-ДВ\u0017нЃ‡п­\n",
      "\n",
      "Open text of 16th format 25 07 01 ee 82 5b 0b 41 3b 29 68 3f c4 cb 12 de 50 58 35 79\n",
      "\n",
      "Open text of 16th format 2a 36 26 ec 9f 43 17 4f 3c 39 7f 2d c4 c2 17 ed 81 87 ef ad\n",
      "\n",
      "Encrypted text of 16th format c2 d1 e5 e2 e5 f0 ed fb e9 f4 e8 eb e8 e0 eb c1 e0 ed ea e0\n",
      "\n",
      "Open 2nd text with 16th format cd e0 c2 e0 f8 e8 f1 f5 ee e4 ff f9 e8 e9 ee f2 31 32 30 34\n",
      "\n",
      "Open 1st test НаВашисходящийот1204\n"
     ]
    }
   ],
   "source": [
    "text1 = decryption(res1, res2, p2)\n",
    "print(\"\\nOpen 1st test\", text1)"
   ]
  },
  {
   "cell_type": "code",
   "execution_count": null,
   "id": "35ebbe5c",
   "metadata": {},
   "outputs": [],
   "source": []
  }
 ],
 "metadata": {
  "kernelspec": {
   "display_name": "Python 3",
   "language": "python",
   "name": "python3"
  },
  "language_info": {
   "codemirror_mode": {
    "name": "ipython",
    "version": 3
   },
   "file_extension": ".py",
   "mimetype": "text/x-python",
   "name": "python",
   "nbconvert_exporter": "python",
   "pygments_lexer": "ipython3",
   "version": "3.8.8"
  }
 },
 "nbformat": 4,
 "nbformat_minor": 5
}
